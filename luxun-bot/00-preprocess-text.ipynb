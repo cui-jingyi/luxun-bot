{
 "cells": [
  {
   "cell_type": "code",
   "execution_count": 3,
   "id": "2c64103d",
   "metadata": {},
   "outputs": [
    {
     "data": {
      "text/plain": [
       "'/Users/jingyicui/Library/CloudStorage/Dropbox/Side Projects/test-chatbot'"
      ]
     },
     "execution_count": 3,
     "metadata": {},
     "output_type": "execute_result"
    }
   ],
   "source": [
    "import os\n",
    "\n",
    "os.getcwd()"
   ]
  },
  {
   "cell_type": "code",
   "execution_count": 8,
   "id": "a6353d69",
   "metadata": {},
   "outputs": [],
   "source": [
    "# Separate huagaiji.txt so that one .txt contain one articles\n",
    "file_path = os.path.abspath(\"huagaiji.txt\")\n",
    "\n",
    "# Read the file\n",
    "with open(file_path, 'r') as f:\n",
    "    # Read the each line in the file\n",
    "    line_number = 0\n",
    "    for line in f:\n",
    "        line_number += 1\n",
    "        # Check if the line begins with a title\n",
    "        if line_number == 1:\n",
    "            title = line.strip()\n",
    "            content = \"\"\n",
    "        elif line[1] != ' ':\n",
    "            # Now, open and write the content to the new files\n",
    "            with open(os.path.join('docs', title + '.txt'), 'w') as f:\n",
    "                f.write(content)\n",
    "            title = line.strip()\n",
    "            content = \"\"\n",
    "        # Append the content line with the title\n",
    "        else:\n",
    "            content += line\n",
    "\n",
    "    "
   ]
  }
 ],
 "metadata": {
  "kernelspec": {
   "display_name": "llm-hack",
   "language": "python",
   "name": "llm-hack"
  },
  "language_info": {
   "codemirror_mode": {
    "name": "ipython",
    "version": 3
   },
   "file_extension": ".py",
   "mimetype": "text/x-python",
   "name": "python",
   "nbconvert_exporter": "python",
   "pygments_lexer": "ipython3",
   "version": "3.9.12"
  }
 },
 "nbformat": 4,
 "nbformat_minor": 5
}
